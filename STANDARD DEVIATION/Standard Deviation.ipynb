{
 "cells": [
  {
   "cell_type": "code",
   "execution_count": 3,
   "id": "d0e2c0d0-bea4-40a0-b520-baf611078fb0",
   "metadata": {},
   "outputs": [
    {
     "name": "stdout",
     "output_type": "stream",
     "text": [
      "Variance: 41.432098765432094\n",
      "Standard Deviation: 6.4367770479823285\n"
     ]
    }
   ],
   "source": [
    "import numpy\n",
    "speed = [5, 14, 8, 21, 3, 12, 7, 19, 2]\n",
    "\n",
    "a = numpy.std(speed)\n",
    "b = numpy.var(speed)\n",
    "\n",
    "print(\"Variance:\", b)\n",
    "print(\"Standard Deviation:\", a)\n"
   ]
  },
  {
   "cell_type": "code",
   "execution_count": null,
   "id": "08e36528-de20-4da8-b859-e631c8fd9502",
   "metadata": {},
   "outputs": [],
   "source": []
  }
 ],
 "metadata": {
  "kernelspec": {
   "display_name": "Python 3 (ipykernel)",
   "language": "python",
   "name": "python3"
  },
  "language_info": {
   "codemirror_mode": {
    "name": "ipython",
    "version": 3
   },
   "file_extension": ".py",
   "mimetype": "text/x-python",
   "name": "python",
   "nbconvert_exporter": "python",
   "pygments_lexer": "ipython3",
   "version": "3.11.7"
  }
 },
 "nbformat": 4,
 "nbformat_minor": 5
}
