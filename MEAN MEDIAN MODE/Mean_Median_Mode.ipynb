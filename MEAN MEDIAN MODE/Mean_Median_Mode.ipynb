{
 "cells": [
  {
   "cell_type": "code",
   "execution_count": 7,
   "id": "3c86aa53-5a6b-4829-8989-b5bf92438089",
   "metadata": {},
   "outputs": [
    {
     "name": "stdout",
     "output_type": "stream",
     "text": [
      "Mean =  10.461538461538462\n",
      "Median =  9.0\n",
      "Mode =  ModeResult(mode=2, count=1)\n"
     ]
    }
   ],
   "source": [
    "import numpy\n",
    "from scipy import stats\n",
    "\n",
    "speed = [4, 17, 8, 23, 12, 3, 9, 15, 6, 11, 7, 19, 2]\n",
    "\n",
    "x = numpy.mean(speed)\n",
    "y = numpy.median(speed)\n",
    "z = stats.mode(speed)\n",
    "\n",
    "\n",
    "print(\"Mean = \",x)\n",
    "print(\"Median = \",y)\n",
    "print(\"Mode = \",z)"
   ]
  }
 ],
 "metadata": {
  "kernelspec": {
   "display_name": "Python 3 (ipykernel)",
   "language": "python",
   "name": "python3"
  },
  "language_info": {
   "codemirror_mode": {
    "name": "ipython",
    "version": 3
   },
   "file_extension": ".py",
   "mimetype": "text/x-python",
   "name": "python",
   "nbconvert_exporter": "python",
   "pygments_lexer": "ipython3",
   "version": "3.11.7"
  }
 },
 "nbformat": 4,
 "nbformat_minor": 5
}
