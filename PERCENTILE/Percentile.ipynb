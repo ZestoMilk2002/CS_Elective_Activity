{
 "cells": [
  {
   "cell_type": "code",
   "execution_count": 1,
   "id": "fba6e066-ccba-4ebd-9510-31e6d5780985",
   "metadata": {},
   "outputs": [
    {
     "name": "stdout",
     "output_type": "stream",
     "text": [
      "Percentile: 17.0\n"
     ]
    }
   ],
   "source": [
    "import numpy\n",
    "\n",
    "\n",
    "ages = [3,7,12,19,25,8,14,5,21,10,6,17,4,9,11,20,15,2,13,18,16]\n",
    "\n",
    "c = numpy.percentile(ages, 75)\n",
    "\n",
    "\n",
    "print(\"Percentile:\",c)"
   ]
  }
 ],
 "metadata": {
  "kernelspec": {
   "display_name": "Python 3 (ipykernel)",
   "language": "python",
   "name": "python3"
  },
  "language_info": {
   "codemirror_mode": {
    "name": "ipython",
    "version": 3
   },
   "file_extension": ".py",
   "mimetype": "text/x-python",
   "name": "python",
   "nbconvert_exporter": "python",
   "pygments_lexer": "ipython3",
   "version": "3.11.7"
  }
 },
 "nbformat": 4,
 "nbformat_minor": 5
}
